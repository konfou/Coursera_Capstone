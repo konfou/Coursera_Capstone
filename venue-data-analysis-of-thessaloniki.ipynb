{
    "nbformat_minor": 1, 
    "cells": [
        {
            "execution_count": 1, 
            "cell_type": "code", 
            "metadata": {}, 
            "outputs": [], 
            "source": "%matplotlib inline\n#!pip install folium geopy\nimport json\nimport requests\nimport numpy as np\nimport pandas as pd\nimport matplotlib.pyplot as plt\nimport matplotlib.cm as cm\nimport matplotlib.colors as colors\nimport folium\nfrom geopy.geocoders import Nominatim\nfrom sklearn.cluster import KMeans"
        }, 
        {
            "source": "<center><h1>Venue Data Analysis of Thessaloniki</h1></center>\n\n## A. Introduction\n\n### A.1. Disscusion\n\nThessaloniki is a Greek port city and the second-largest city in Greece with over 1 million inhabitants and a population density of 7.100 residents per square kilometer. The city is divided into 20 districts in total. This will be of general interest comparison of different neighbors and how they cluster together.\n\n### A.2. Data Description\n\nTo consider the problem the following data will be required:\n\n  * Places data from Thessaloniki Risk Data Portal [http://riskdata.thessaloniki.gr/].\n  * Forsquare API to get the most common venues of given borough of Thessaloniki.", 
            "cell_type": "markdown", 
            "metadata": {
                "collapsed": true
            }
        }, 
        {
            "execution_count": null, 
            "cell_type": "code", 
            "metadata": {}, 
            "outputs": [], 
            "source": "!wget -q -O 'data.json' \"http://riskdata.thessaloniki.gr/geoserver/wfs?srsName=EPSG%3A4326&typename=geonode%3Aall_places&outputFormat=json&version=1.0.0&service=WFS&request=GetFeature\"\nwith open('data.json') as json_data:\n    neighborhoods_data = json.load(json_data)\n    neighborhoods_data = neighborhoods_data['features']"
        }, 
        {
            "source": "## B. Methodology\n\nOur master data has the main components Neighborhood, Latitude and Longitude information for the city.", 
            "cell_type": "markdown", 
            "metadata": {}
        }, 
        {
            "execution_count": null, 
            "cell_type": "code", 
            "metadata": {}, 
            "outputs": [], 
            "source": "column_names = ['Neighborhood', 'Latitude', 'Longitude'] \nneighborhoods = pd.DataFrame(columns=column_names)\nfor data in neighborhoods_data:\n    if data['properties']['place'] in ['neighbourhood', 'suburb']:\n        neighborhood_name = data['properties']['name']        \n        latlon = data['geometry']['coordinates']\n        neighborhood_lat = latlon[1]\n        neighborhood_lon = latlon[0]\n        neighborhoods = neighborhoods.append({'Neighborhood': neighborhood_name,\n                                              'Latitude': neighborhood_lat,\n                                              'Longitude': neighborhood_lon}, ignore_index=True)\nneighborhoods"
        }, 
        {
            "source": "Let's start by visualizing the geographic details of Thessaloniki and its neighborhoods. We create a map of Thessaloniki with neighborhoods superimposed on top.", 
            "cell_type": "markdown", 
            "metadata": {}
        }, 
        {
            "execution_count": null, 
            "cell_type": "code", 
            "metadata": {
                "scrolled": false
            }, 
            "outputs": [], 
            "source": "loc = Nominatim(user_agent=\"saloniki_explorer\").geocode('Thessaloniki, Greece')\nmap_saloniki = folium.Map(location=[loc.latitude, loc.longitude], zoom_start=12)\nfor lat, lon, neighborhood in zip(neighborhoods['Latitude'], neighborhoods['Longitude'], neighborhoods['Neighborhood']):\n    label = '{}'.format(neighborhood)\n    label = folium.Popup(label, parse_html=True)\n    folium.CircleMarker(\n        [lat, lon],\n        radius=5,\n        popup=label,\n        color='blue',\n        fill=True,\n        fill_color='#3186cc',\n        fill_opacity=0.7,\n        parse_html=False).add_to(map_saloniki)\nmap_saloniki"
        }, 
        {
            "source": "By using the Foursquare API, we will explore the neighborhoods and segment them. We designate a venue limit of 100 and a radius limit of 600 meter for each neighborhood from their given latitude and longitude information.", 
            "cell_type": "markdown", 
            "metadata": {}
        }, 
        {
            "execution_count": null, 
            "cell_type": "code", 
            "metadata": {}, 
            "outputs": [], 
            "source": "# The code was removed by Watson Studio for sharing."
        }, 
        {
            "execution_count": null, 
            "cell_type": "code", 
            "metadata": {}, 
            "outputs": [], 
            "source": "CLIENT_ID = CLIENT_ID\nCLIENT_SECRET = CLIENT_SECRET\nVERSION = '20180605'\nradius=600\nlimit=100\nvenues_list=[]\nfor name, lat, lng in zip(neighborhoods['Neighborhood'], neighborhoods['Latitude'], neighborhoods['Longitude']):\n    url = 'https://api.foursquare.com/v2/venues/explore?&client_id={}&client_secret={}&v={}&ll={},{}&radius={}&limit={}'.format(\n        CLIENT_ID, \n        CLIENT_SECRET, \n        VERSION, \n        lat, \n        lng, \n        radius, \n        limit)\n    results = requests.get(url).json()[\"response\"]['groups'][0]['items']\n    venues_list.append([(\n        name, \n        lat, \n        lng, \n        v['venue']['name'], \n        v['venue']['location']['lat'], \n        v['venue']['location']['lng'],  \n        v['venue']['categories'][0]['name']) for v in results])\nsaloniki_venues = pd.DataFrame([item for venues_list in venues_list for item in venues_list])\nsaloniki_venues.columns = ['Neighborhood', \n                  'Neighborhood Latitude', \n                  'Neighborhood Longitude', \n                  'Venue', \n                  'Venue Latitude', \n                  'Venue Longitude', \n                  'Venue Category']"
        }, 
        {
            "execution_count": null, 
            "cell_type": "code", 
            "metadata": {}, 
            "outputs": [], 
            "source": "print('There are {} uniques venue categories.'.format(len(saloniki_venues['Venue Category'].unique())))"
        }, 
        {
            "execution_count": null, 
            "cell_type": "code", 
            "metadata": {}, 
            "outputs": [], 
            "source": "venue_count = saloniki_venues.groupby('Neighborhood').count()\nvenue_count['Venue'].plot.bar(x='Index', y='Venue', rot=90)"
        }, 
        {
            "source": "We see that \u039d\u03b5\u03ac\u03c0\u03bf\u03bb\u03b7 has the most venues. Let's list the top 10 venue category for each borough in the following table.", 
            "cell_type": "markdown", 
            "metadata": {}
        }, 
        {
            "execution_count": null, 
            "cell_type": "code", 
            "metadata": {}, 
            "outputs": [], 
            "source": "saloniki_onehot = pd.get_dummies(saloniki_venues[['Venue Category']], prefix=\"\", prefix_sep=\"\")\nsaloniki_onehot['Neighborhood'] = saloniki_venues['Neighborhood'] \nfixed_columns = [saloniki_onehot.columns[-1]] + list(saloniki_onehot.columns[:-1])\nsaloniki_onehot = saloniki_onehot[fixed_columns]\nsaloniki_grouped = saloniki_onehot.groupby('Neighborhood').mean().reset_index()\nnum_top_venues = 10\ndef return_most_common_venues(row, num_top_venues):\n    row_categories = row.iloc[1:]\n    row_categories_sorted = row_categories.sort_values(ascending=False)\n    return row_categories_sorted.index.values[0:num_top_venues]\nindicators = ['st', 'nd', 'rd']\ncolumns = ['Neighborhood']\nfor ind in range(num_top_venues):\n    try:\n        columns.append('{}{}'.format(ind+1, indicators[ind]))\n    except:\n        columns.append('{}th'.format(ind+1))\nneighborhoods_venues_sorted = pd.DataFrame(columns=columns)\nneighborhoods_venues_sorted['Neighborhood'] = saloniki_grouped['Neighborhood']\nfor ind in range(saloniki_grouped.shape[0]):\n    neighborhoods_venues_sorted.iloc[ind, 1:] = return_most_common_venues(saloniki_grouped.iloc[ind, :], num_top_venues)\nneighborhoods_venues_sorted"
        }, 
        {
            "source": "As there are some common venue categories in boroughs, we can make use of the unsupervised learning K-means algorithm to cluster the boroughs. Initially we analyze the K-Means with elbow method so we can find the optimum k of the K-Means.", 
            "cell_type": "markdown", 
            "metadata": {}
        }, 
        {
            "execution_count": null, 
            "cell_type": "code", 
            "metadata": {}, 
            "outputs": [], 
            "source": "saloniki_grouped_clustering = saloniki_grouped.drop('Neighborhood', 1)\ninertias = []\nfor k in range(1,5):\n    km = KMeans(n_clusters=k)\n    km.fit(saloniki_grouped_clustering)\n    inertias.append(km.inertia_)\nplt.plot(range(1,5), inertias, 'bx-')\nplt.show()"
        }, 
        {
            "source": "It seems there is no optimal number of clusers. Nevertheless we will try with 4 clusters.", 
            "cell_type": "markdown", 
            "metadata": {}
        }, 
        {
            "execution_count": null, 
            "cell_type": "code", 
            "metadata": {}, 
            "outputs": [], 
            "source": "kclusters = 4\nkmeans = KMeans(n_clusters=kclusters, random_state=0).fit(saloniki_grouped_clustering)\nkmeans.labels_[0:10] "
        }, 
        {
            "source": "Here is a merged table with cluster labels for each borough.", 
            "cell_type": "markdown", 
            "metadata": {}
        }, 
        {
            "execution_count": null, 
            "cell_type": "code", 
            "metadata": {}, 
            "outputs": [], 
            "source": "neighborhoods_venues_sorted.insert(0, 'Cluster Labels', kmeans.labels_)\nsaloniki_merged = neighborhoods\nsaloniki_merged = saloniki_merged.join(neighborhoods_venues_sorted.set_index('Neighborhood'), on='Neighborhood')\nsaloniki_merged"
        }, 
        {
            "source": "We can visualize the clustered neighboors.", 
            "cell_type": "markdown", 
            "metadata": {}
        }, 
        {
            "execution_count": null, 
            "cell_type": "code", 
            "metadata": {}, 
            "outputs": [], 
            "source": "map_clusters = folium.Map(location=[loc.latitude, loc.longitude], zoom_start=12)\nx = np.arange(kclusters)\nys = [i + x + (i*x)**2 for i in range(kclusters)]\ncolors_array = cm.rainbow(np.linspace(0, 1, len(ys)))\nrainbow = [colors.rgb2hex(i) for i in colors_array]\nmarkers_colors = []\nfor lat, lon, poi, cluster in zip(saloniki_merged['Latitude'],\n                                  saloniki_merged['Longitude'],\n                                  saloniki_merged['Neighborhood'],\n                                  saloniki_merged['Cluster Labels']):\n    label = folium.Popup(str(poi) + ' Cluster ' + str(cluster), parse_html=True)\n    folium.CircleMarker(\n        [lat, lon],\n        radius=5,\n        popup=label,\n        color=rainbow[cluster-1],\n        fill=True,\n        fill_color=rainbow[cluster-1],\n        fill_opacity=0.7).add_to(map_clusters)\nmap_clusters"
        }, 
        {
            "source": "We will now explore the clusters.", 
            "cell_type": "markdown", 
            "metadata": {}
        }, 
        {
            "execution_count": null, 
            "cell_type": "code", 
            "metadata": {}, 
            "outputs": [], 
            "source": "saloniki_merged.loc[saloniki_merged['Cluster Labels'] == 0, saloniki_merged.columns[[1] + list(range(5, saloniki_merged.shape[1]))]]"
        }, 
        {
            "execution_count": null, 
            "cell_type": "code", 
            "metadata": {}, 
            "outputs": [], 
            "source": "saloniki_merged.loc[saloniki_merged['Cluster Labels'] == 1, saloniki_merged.columns[[1] + list(range(5, saloniki_merged.shape[1]))]]"
        }, 
        {
            "execution_count": null, 
            "cell_type": "code", 
            "metadata": {}, 
            "outputs": [], 
            "source": "saloniki_merged.loc[saloniki_merged['Cluster Labels'] == 2, saloniki_merged.columns[[1] + list(range(5, saloniki_merged.shape[1]))]]"
        }, 
        {
            "execution_count": null, 
            "cell_type": "code", 
            "metadata": {}, 
            "outputs": [], 
            "source": "saloniki_merged.loc[saloniki_merged['Cluster Labels'] == 3, saloniki_merged.columns[[1] + list(range(5, saloniki_merged.shape[1]))]]"
        }, 
        {
            "source": "Examining the above tables we can label each cluster as follows:\n\n  * Cluster 0 : \"Food Venues\"\n  * Cluster 1 : \"Bar & Food Venues\"\n  * Cluster 2 : \"Social Venues\"\n  * Cluster 4 : \"Market Venes\"", 
            "cell_type": "markdown", 
            "metadata": {}
        }, 
        {
            "source": "## C. Results\n\nBy considering the previous, we find that the various neighboors bear a similarity to each other based on what venues are available.", 
            "cell_type": "markdown", 
            "metadata": {}
        }, 
        {
            "source": "## D. Discussion\n\nThessaloniki is a big city with a high population density in a narrow area. The total number of measurements and population densities of the 20 districts in total can vary. Necause of the high complexity, very different approaches can be tried in clustering and classification studies. It should be noted that not every classification method can yield the quality results.\n\nThe K-means algorithm was used as part of this clustering study. Testing with the elbow method, no optimum k value could be found. The following can be considered:\n\n* Maybe K-means is the wrong algorithm for the problem.\n* Maybe the preprocessing wasn't done correctly and better work is needed.\n* Maybe there is a single cluster afterall.\n\n## F. Conclusion\n\nWe found that more work is needed, perhaps by using a different algorithm or doing preprocessing differently, or maybe there is really homogeonity among the neighbors.", 
            "cell_type": "markdown", 
            "metadata": {}
        }
    ], 
    "metadata": {
        "kernelspec": {
            "display_name": "Python 3.6", 
            "name": "python3", 
            "language": "python"
        }, 
        "language_info": {
            "mimetype": "text/x-python", 
            "nbconvert_exporter": "python", 
            "version": "3.6.8", 
            "name": "python", 
            "file_extension": ".py", 
            "pygments_lexer": "ipython3", 
            "codemirror_mode": {
                "version": 3, 
                "name": "ipython"
            }
        }
    }, 
    "nbformat": 4
}